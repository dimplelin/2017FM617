{
 "cells": [
  {
   "cell_type": "code",
   "execution_count": 1,
   "metadata": {},
   "outputs": [
    {
     "name": "stdout",
     "output_type": "stream",
     "text": [
      "Hello world!\n",
      "This is Alice's greeting.\n",
      "This is Bob's greeting.\n",
      "5 plus 10 is equal to 15\n",
      "foo\n",
      "==========\n",
      "Current working directory is C:\\Users\\ericlin\\Documents\\2017FM617\\HW02\n",
      "I like to eat apples\n",
      "I like to eat oranges\n",
      "I like to eat cats\n",
      "Count to ten\n",
      "0\n",
      "1\n",
      "2\n",
      "3\n",
      "4\n",
      "5\n",
      "6\n",
      "7\n",
      "8\n",
      "9\n"
     ]
    }
   ],
   "source": [
    "# 載入模組\n",
    "import os\n",
    "def main():\n",
    "    # 用括號()包住字串\n",
    "    print ('Hello world!')\n",
    "    # 若有單引號，需使用雙引號包覆字串\n",
    "    print (\"This is Alice's greeting.\")\n",
    "    # 跳脫字元\\\n",
    "    print ('This is Bob\\'s greeting.')\n",
    "    # 呼叫foo functionn\n",
    "    foo(5, 10)\n",
    "    # 字串重複10次\n",
    "    print ('=' * 10)\n",
    "    # 找到所在目錄\n",
    "    print ('Current working directory is ' + os.getcwd())\n",
    "    # 定義變數\n",
    "    counter = 0\n",
    "    # 變數不斷+1\n",
    "    counter += 1\n",
    "    \n",
    "    # 建立一個為food的list\n",
    "    food = ['apples', 'oranges', 'cats']\n",
    "    \n",
    "    # 用food做一個迴圈\n",
    "    for i in food:\n",
    "        print ('I like to eat ' + i)\n",
    "    \n",
    "    # 列出1~9的數字\n",
    "    print ('Count to ten')\n",
    "    for i in range(10):\n",
    "        print (i)\n",
    "   \n",
    " # 定義foo function\n",
    "def foo(param1, secondParam):\n",
    "    res = param1 + secondParam\n",
    "    \n",
    "    # 插入Function中算出來的值\n",
    "    print ('%s plus %s is equal to %s' % (param1, secondParam, res))\n",
    "    \n",
    "    # 如果計算出來的值小於50，如果則印出 foores 大於等於50 而且 param1 = 42 or secondParam = 24，則印出bar，其他則印出moo\n",
    "    if res < 50:\n",
    "        print('foo')\n",
    "    elif (res >= 50) and ((param1 == 42) or (secondParam == 24)):\n",
    "        print('bar')\n",
    "    else:\n",
    "        print('moo')\n",
    "    return res\n",
    "    '''A multi-\n",
    "line string, but can also be a multi-line comment.'''\n",
    "    \n",
    "#如果值為__main__表示該程式被\"執行\"，反之則被import\n",
    "if __name__ == '__main__':\n",
    "    main()"
   ]
  }
 ],
 "metadata": {
  "kernelspec": {
   "display_name": "Python 3",
   "language": "python",
   "name": "python3"
  },
  "language_info": {
   "codemirror_mode": {
    "name": "ipython",
    "version": 3
   },
   "file_extension": ".py",
   "mimetype": "text/x-python",
   "name": "python",
   "nbconvert_exporter": "python",
   "pygments_lexer": "ipython3",
   "version": "3.6.2"
  }
 },
 "nbformat": 4,
 "nbformat_minor": 2
}
